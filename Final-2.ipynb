{
  "nbformat": 4,
  "nbformat_minor": 0,
  "metadata": {
    "kernelspec": {
      "display_name": "Python 3",
      "language": "python",
      "name": "python3"
    },
    "language_info": {
      "codemirror_mode": {
        "name": "ipython",
        "version": 3
      },
      "file_extension": ".py",
      "mimetype": "text/x-python",
      "name": "python",
      "nbconvert_exporter": "python",
      "pygments_lexer": "ipython3",
      "version": "3.8.0"
    },
    "colab": {
      "name": "Final.ipynb",
      "provenance": []
    }
  },
  "cells": [
    {
      "cell_type": "markdown",
      "metadata": {
        "id": "RQ1srnSeoWxx",
        "colab_type": "text"
      },
      "source": [
        "# Final Exam\n",
        "\n",
        "[![Open In Colab](https://colab.research.google.com/assets/colab-badge.svg)](https://colab.research.google.com/github//afarbin/DATA1401-Spring-2020/blob/master/Exams/Final/Final.ipynb)"
      ]
    },
    {
      "cell_type": "markdown",
      "metadata": {
        "id": "CK8sMAxfoWxz",
        "colab_type": "text"
      },
      "source": [
        "Recall the drawing system from lecture 18:"
      ]
    },
    {
      "cell_type": "code",
      "metadata": {
        "id": "EGZt-I9LoWx0",
        "colab_type": "code",
        "colab": {}
      },
      "source": [
        "class Canvas:\n",
        "    def __init__(self, width, height):\n",
        "        self.width = width\n",
        "        self.height = height\n",
        "        self.data = [[' '] * width for i in range(height)]\n",
        "\n",
        "    def set_pixel(self, row, col, char='*'):\n",
        "        self.data[row][col] = char\n",
        "\n",
        "    def get_pixel(self, row, col):\n",
        "        return self.data[row][col]\n",
        "    \n",
        "    def h_line(self, x, y, w, **kargs):\n",
        "        for i in range(x,x+w):\n",
        "            self.set_pixel(i,y, **kargs)\n",
        "\n",
        "    def v_line(self, x, y, h, **kargs):\n",
        "        for i in range(y,y+h):\n",
        "            self.set_pixel(x,i, **kargs)\n",
        "            \n",
        "    def line(self, x1, y1, x2, y2, **kargs):\n",
        "        slope = (y2-y1) / (x2-x1)\n",
        "        for y in range(y1,y2):\n",
        "            x= int(slope * y)\n",
        "            self.set_pixel(x,y, **kargs)\n",
        "    \n",
        "    def line_updated(self,x1,y1,x2,y2,**kargs):\n",
        "        x_dif = (x2-x1)\n",
        "        y_dif = (y2-y1)\n",
        "        \n",
        "        # vertical line when you have 2 points\n",
        "        if x_dif == 0:\n",
        "            self.h_line(x1,y1,y_dif,**kargs)\n",
        "        \n",
        "        # horizontal line when you have 2 points \n",
        "        elif y_dif == 0 :\n",
        "            self.v_line(x1,y1,x_dif,**kargs)\n",
        "        \n",
        "        # slope positive\n",
        "        elif (y_dif/x_dif) > 0:\n",
        "          self.line(x1,y1,x2,y2,**kargs)\n",
        "          slope = y_dif/x_dif\n",
        "        \n",
        "        # slope negative\n",
        "        elif (y_dif/x_dif) < 0:\n",
        "          self.line(x1,y1,x2,y2,**kargs)\n",
        "          slope = y_dif/x_dif\n",
        "        \n",
        "        else:\n",
        "          None\n",
        "        \n",
        "    def display(self):\n",
        "        print(\"\\n\".join([\"\".join(row) for row in self.data]))"
      ],
      "execution_count": 0,
      "outputs": []
    },
    {
      "cell_type": "code",
      "metadata": {
        "id": "IZcUXi_O5XtD",
        "colab_type": "code",
        "colab": {}
      },
      "source": [
        "# can = Canvas(15,15)\n",
        "# can.line_updated(1,4,1,10,char ='v')\n",
        "# can.line_updated(5,3,10,3,char='h')\n",
        "# can.line_updated(5,3,8,9,char='p')\n",
        "# can.display()"
      ],
      "execution_count": 0,
      "outputs": []
    },
    {
      "cell_type": "code",
      "metadata": {
        "id": "yZkS7adWoWx9",
        "colab_type": "code",
        "colab": {}
      },
      "source": [
        "class Shape:\n",
        "    def __init__(self, name=\"\", **kwargs):\n",
        "        self.name=name\n",
        "        self.kwargs=kwargs\n",
        "    \n",
        "    def paint(self, canvas): pass\n",
        "\n",
        "    def __str__(self): pass\n",
        "\n",
        "class Rectangle(Shape):\n",
        "    def __init__(self, x, y, w, h, **kwargs):\n",
        "        Shape.__init__(self, **kwargs)\n",
        "        self.x = x\n",
        "        self.y = y\n",
        "        self.w = w\n",
        "        self.h = h\n",
        "\n",
        "    def paint(self, canvas):\n",
        "        canvas.h_line(self.x, self.y, self.w, **self.kwargs)\n",
        "        canvas.h_line(self.x, self.y + self.h, self.w, **self.kwargs)\n",
        "        canvas.v_line(self.x, self.y, self.h, **self.kwargs)\n",
        "        canvas.v_line(self.x + self.w, self.y, self.h, **self.kwargs)\n",
        "    #Square(5,5,20,char=\"^\")\n",
        "    def __str__(self):\n",
        "        k_arg = (', '.join(['{}={!r}'.format(k, v) for k, v in self.kwargs.items()]))\n",
        "        return( \"Rectangle(\" + str(self.x) + \",\" + str(self.y)+ \",\" + \n",
        "        str(self.w) + \",\" + str(self.h) + \",\"+ str(k_arg)+\")\")\n",
        "\n",
        "\n",
        "class Square(Rectangle):\n",
        "    def __init__(self, x, y, size, **kwargs):\n",
        "        Rectangle.__init__(self, x, y, size, size, **kwargs)\n",
        "    def __str__(self):\n",
        "        k_arg = (', '.join(['{}={!r}'.format(k, v) for k, v in self.kwargs.items()]))\n",
        "        return( \"Rectangle(\" + str(self.x) + \",\" + str(self.y)+ \",\" + \n",
        "        str(self.size) +  \",\"+ str(k_arg)+\")\")\n",
        "\n",
        "class Line(Shape):\n",
        "    def __init__(self, x1, y1, x2, y2,  **kwargs):\n",
        "        Shape.__init__(self, **kwargs)\n",
        "        self.x1=x1\n",
        "        self.y1=y1\n",
        "        self.x2=x2\n",
        "        self.y2=y2\n",
        "        \n",
        "    def paint(self, canvas):\n",
        "        canvas.line(self.x1,self.y1,self.x2,self.y2)\n",
        "    \n",
        "    def __str__(self):\n",
        "        k_arg = (', '.join(['{}={!r}'.format(k, v) for k, v in self.kwargs.items()]))\n",
        "        return( \"Rectangle(\" + str(self.x1) + \",\" + str(self.y1)+ \",\" + \n",
        "        str(self.x2) + \",\" + str(self.y2) + \",\"+ str(k_arg)+\")\")\n",
        "        \n",
        "class CompoundShape(Shape):\n",
        "    def __init__(self, shapes):\n",
        "        self.shapes = shapes\n",
        "\n",
        "    def paint(self, canvas):\n",
        "        for s in self.shapes:\n",
        "            s.paint(canvas)"
      ],
      "execution_count": 0,
      "outputs": []
    },
    {
      "cell_type": "code",
      "metadata": {
        "id": "XVGGvqcASN4A",
        "colab_type": "code",
        "colab": {
          "base_uri": "https://localhost:8080/",
          "height": 54
        },
        "outputId": "ec3a7471-f4b7-4493-d9c2-55d84d5469b8"
      },
      "source": [
        "rectangle = Rectangle(3,3,4,5,char = \"!\")\n",
        "rectangle.paint(canvas)\n",
        "#print(rectangle.**kwargs)\n",
        "print(rectangle.__str__())"
      ],
      "execution_count": 21,
      "outputs": [
        {
          "output_type": "stream",
          "text": [
            "Rectangle(3,3,4,5,char='!')\n"
          ],
          "name": "stdout"
        }
      ]
    },
    {
      "cell_type": "code",
      "metadata": {
        "id": "3b6HazdzqW3_",
        "colab_type": "code",
        "colab": {}
      },
      "source": [
        "from google.colab import drive\n",
        "drive.mount('/content/drive')"
      ],
      "execution_count": 0,
      "outputs": []
    },
    {
      "cell_type": "code",
      "metadata": {
        "id": "J6RNbmTApCjM",
        "colab_type": "code",
        "colab": {}
      },
      "source": [
        "class Point(Shape):\n",
        "    def __init__(self, x, y, **kwargs):\n",
        "        Shape.__init__(self, **kwargs)\n",
        "        self.x = x\n",
        "        self.y = y\n",
        "    \n",
        "    def paint(self,canvas):\n",
        "        canvas.set_pixel(self.x, self.y, **kwargs)\n",
        "\n",
        "    def __str__(self):\n",
        "        k_arg = (', '.join(['{}={!r}'.format(k, v) for k, v in self.kwargs.items()]))\n",
        "        return( \"Rectangle(\" + str(self.x) + \",\" + str(self.y)+ \",\"+ str(k_arg)+\")\")\n",
        "\n",
        "class Triangle(Shape):\n",
        "    def __init__(self, x1=3,y1=3,x2=4,y2=6,x3=6,y3=5,**kwargs):\n",
        "        self.x1 = x1\n",
        "        self.x2 = x2\n",
        "        self.x3 = x3\n",
        "        self.y1 = y1\n",
        "        self.y2 = y2\n",
        "        self.y3 = y3\n",
        "\n",
        "    def paint(self, canvas):\n",
        "        #canvas.line(self.x1,self.y1,self.x2,self.y2)\n",
        "        canvas.line(self.x1,self.y1,self.x2,self.y2)\n",
        "        canvas.line(self.x2,self.y2,self.x3,self.y3)\n",
        "        canvas.line(self.x1,self.y1,self.x3,self.y3)\n",
        "    \n",
        "    def __str__(self):\n",
        "        k_arg = (', '.join(['{}={!r}'.format(k, v) for k, v in self.kwargs.items()]))\n",
        "        return( \"Rectangle(\" + str(self.x1) + \",\" + str(self.y1)+ \",\" + \n",
        "        str(self.x2) + \",\" + str(self.y2) + \",\" + \n",
        "        str(self.x3) + \",\" + str(self.y3) + \",\"+ str(k_arg)+\")\")"
      ],
      "execution_count": 0,
      "outputs": []
    },
    {
      "cell_type": "code",
      "metadata": {
        "id": "4d9S3LwhoWyC",
        "colab_type": "code",
        "colab": {}
      },
      "source": [
        "class RasterDrawing:\n",
        "    def __init__(self):\n",
        "        self.shapes=dict()\n",
        "        self.shape_names=list()\n",
        "        \n",
        "    def add_shape(self,shape):\n",
        "        if shape.name == \"\":\n",
        "            shape.name = self.assign_name()\n",
        "        \n",
        "        self.shapes[shape.name]=shape\n",
        "        self.shape_names.append(shape.name)\n",
        "        \n",
        "    def paint(self,canvas):\n",
        "        for shape_name in self.shape_names:\n",
        "            self.shapes[shape_name].paint(canvas)\n",
        "            \n",
        "    def assign_name(self):\n",
        "        name_base=\"shape\"\n",
        "        name = name_base+\"_0\"\n",
        "        \n",
        "        i=1\n",
        "        while name in self.shapes:\n",
        "            name = name_base+\"_\"+str(i)\n",
        "            \n",
        "        return name\n"
      ],
      "execution_count": 0,
      "outputs": []
    },
    {
      "cell_type": "markdown",
      "metadata": {
        "id": "Clj2oc5eoWyF",
        "colab_type": "text"
      },
      "source": [
        "1. Add `Point` and `Triangle` classes and test them."
      ]
    },
    {
      "cell_type": "code",
      "metadata": {
        "id": "iTZ1q2DfoWyG",
        "colab_type": "code",
        "colab": {}
      },
      "source": [
        ""
      ],
      "execution_count": 0,
      "outputs": []
    },
    {
      "cell_type": "markdown",
      "metadata": {
        "id": "xnKIYd_7oWyK",
        "colab_type": "text"
      },
      "source": [
        "2. Add an `Arc` class that is instantiated with a center location, two axis lengths, and starting and ending angles. If start and end are not specified or are the same angle, the `Arc` instance should draw an oval. If in addition the two axes are the same, the `Arc` instance should draw a circle. Create `Oval` and `Circle` classes that inherit from `Arc`. Test everything."
      ]
    },
    {
      "cell_type": "code",
      "metadata": {
        "id": "YFaoSw-PKidD",
        "colab_type": "code",
        "colab": {}
      },
      "source": [
        "class Arc(Shape):\n",
        "    def __init__(self, x_center, y_center, length_of_arc, theta1, theta2, **kwargs):\n",
        "        Shape.__init__(self, **kwargs)\n",
        "        self.x_center = x_center\n",
        "        self.y_center = y_center\n",
        "        self.length_of_arc = length_of_arc\n",
        "        self.theta1 = theta1\n",
        "        self.theta2 = theta2\n",
        "\n",
        "    def paint(self, canvas):\n",
        "        "
      ],
      "execution_count": 0,
      "outputs": []
    },
    {
      "cell_type": "code",
      "metadata": {
        "id": "Z6t63x-WoWyL",
        "colab_type": "code",
        "colab": {}
      },
      "source": [
        ""
      ],
      "execution_count": 0,
      "outputs": []
    },
    {
      "cell_type": "markdown",
      "metadata": {
        "id": "H4cliF17oWyN",
        "colab_type": "text"
      },
      "source": [
        "3. Use your classes to create a `RasterDrawing` that draws a happy face."
      ]
    },
    {
      "cell_type": "code",
      "metadata": {
        "id": "qiciZaP2oWyN",
        "colab_type": "code",
        "colab": {}
      },
      "source": [
        ""
      ],
      "execution_count": 0,
      "outputs": []
    },
    {
      "cell_type": "markdown",
      "metadata": {
        "id": "5Mmp4kjhoWyP",
        "colab_type": "text"
      },
      "source": [
        "4. Add to the `Shape` base class a `__str__()` method. Overwrite the method in each shape to generate a string of the python code necessary to reinstantiate the object. For example, for a rectangle originally instantiated using `Square(5,5,20,char=\"^\")`, `__str__()` should return the string `'Square(5,5,20,char=\"^\")'`.\n"
      ]
    },
    {
      "cell_type": "code",
      "metadata": {
        "id": "IT-4eQGcoWyP",
        "colab_type": "code",
        "colab": {}
      },
      "source": [
        ""
      ],
      "execution_count": 0,
      "outputs": []
    },
    {
      "cell_type": "markdown",
      "metadata": {
        "id": "dgN1Y3L1oWyQ",
        "colab_type": "text"
      },
      "source": [
        "5. Add to `RasterDrawing` two functions, `save(filename)` and `load(filename)`. The save function writes the `__str__()` of all of the shapes in the drawing to a file (one shape per line). The load function, reads the file, and instantiates each object using the python `eval(expression)` function, and adds each shape to the drawing, thereby recreating a \"saved\" raster drawing. Use this functionality to save and load your happy face.\n",
        "\n",
        "   `eval` takes a string that contains a fragment of a python code and executes it. Consider the following examples: "
      ]
    },
    {
      "cell_type": "code",
      "metadata": {
        "id": "_HPZfV9CoWyR",
        "colab_type": "code",
        "colab": {}
      },
      "source": [
        "eval(\"print('Hello')\")"
      ],
      "execution_count": 0,
      "outputs": []
    },
    {
      "cell_type": "code",
      "metadata": {
        "id": "rfUcD-9joWyS",
        "colab_type": "code",
        "colab": {}
      },
      "source": [
        "x = eval('1+2')\n",
        "print(x)"
      ],
      "execution_count": 0,
      "outputs": []
    },
    {
      "cell_type": "code",
      "metadata": {
        "id": "tz1tNLM0oWyU",
        "colab_type": "code",
        "colab": {}
      },
      "source": [
        ""
      ],
      "execution_count": 0,
      "outputs": []
    }
  ]
}